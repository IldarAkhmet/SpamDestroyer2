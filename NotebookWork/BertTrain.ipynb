{
  "nbformat": 4,
  "nbformat_minor": 0,
  "metadata": {
    "colab": {
      "provenance": [],
      "gpuType": "T4"
    },
    "kernelspec": {
      "name": "python3",
      "display_name": "Python 3"
    },
    "language_info": {
      "name": "python"
    },
    "accelerator": "GPU"
  },
  "cells": [
    {
      "cell_type": "code",
      "source": [
        "from google.colab import drive\n",
        "drive.mount('/content/drive')"
      ],
      "metadata": {
        "colab": {
          "base_uri": "https://localhost:8080/"
        },
        "id": "p_aXyI3DcnX3",
        "outputId": "1d58b278-689b-49cd-e95f-571b97e81747"
      },
      "execution_count": null,
      "outputs": [
        {
          "output_type": "stream",
          "name": "stdout",
          "text": [
            "Mounted at /content/drive\n"
          ]
        }
      ]
    },
    {
      "cell_type": "code",
      "source": [
        "%cd /content/drive/MyDrive/spamDestroyer2"
      ],
      "metadata": {
        "colab": {
          "base_uri": "https://localhost:8080/"
        },
        "id": "lgvxO3GidYZK",
        "outputId": "dfee74ff-e172-410f-89ca-986dd544bd17"
      },
      "execution_count": null,
      "outputs": [
        {
          "output_type": "stream",
          "name": "stdout",
          "text": [
            "/content/drive/MyDrive/spamDestroyer2\n"
          ]
        }
      ]
    },
    {
      "cell_type": "code",
      "source": [
        "import pandas as pd\n",
        "\n",
        "df = pd.read_csv('df.csv')\n",
        "df.head()"
      ],
      "metadata": {
        "colab": {
          "base_uri": "https://localhost:8080/",
          "height": 206
        },
        "id": "E14Z4eXadPDY",
        "outputId": "bd98bab1-b696-4c5c-d3e9-031e652f230e"
      },
      "execution_count": null,
      "outputs": [
        {
          "output_type": "execute_result",
          "data": {
            "text/plain": [
              "                                                text  is_spam\n",
              "0  Идите до  Джуронг-Пойнт с ума сойти Доступно т...        0\n",
              "1                      Ладно лар Шучу с тобой  чувак        0\n",
              "2  Ты не можешь так рано говорить хо Ты можешь уж...        0\n",
              "3  Нет я не думаю что он учится в USF он живет гд...        0\n",
              "4   Привет дорогая прошло уже 3 недели а ответа н...        1"
            ],
            "text/html": [
              "\n",
              "  <div id=\"df-595ead8e-5276-4de9-bfbe-1de4072da147\" class=\"colab-df-container\">\n",
              "    <div>\n",
              "<style scoped>\n",
              "    .dataframe tbody tr th:only-of-type {\n",
              "        vertical-align: middle;\n",
              "    }\n",
              "\n",
              "    .dataframe tbody tr th {\n",
              "        vertical-align: top;\n",
              "    }\n",
              "\n",
              "    .dataframe thead th {\n",
              "        text-align: right;\n",
              "    }\n",
              "</style>\n",
              "<table border=\"1\" class=\"dataframe\">\n",
              "  <thead>\n",
              "    <tr style=\"text-align: right;\">\n",
              "      <th></th>\n",
              "      <th>text</th>\n",
              "      <th>is_spam</th>\n",
              "    </tr>\n",
              "  </thead>\n",
              "  <tbody>\n",
              "    <tr>\n",
              "      <th>0</th>\n",
              "      <td>Идите до  Джуронг-Пойнт с ума сойти Доступно т...</td>\n",
              "      <td>0</td>\n",
              "    </tr>\n",
              "    <tr>\n",
              "      <th>1</th>\n",
              "      <td>Ладно лар Шучу с тобой  чувак</td>\n",
              "      <td>0</td>\n",
              "    </tr>\n",
              "    <tr>\n",
              "      <th>2</th>\n",
              "      <td>Ты не можешь так рано говорить хо Ты можешь уж...</td>\n",
              "      <td>0</td>\n",
              "    </tr>\n",
              "    <tr>\n",
              "      <th>3</th>\n",
              "      <td>Нет я не думаю что он учится в USF он живет гд...</td>\n",
              "      <td>0</td>\n",
              "    </tr>\n",
              "    <tr>\n",
              "      <th>4</th>\n",
              "      <td>Привет дорогая прошло уже 3 недели а ответа н...</td>\n",
              "      <td>1</td>\n",
              "    </tr>\n",
              "  </tbody>\n",
              "</table>\n",
              "</div>\n",
              "    <div class=\"colab-df-buttons\">\n",
              "\n",
              "  <div class=\"colab-df-container\">\n",
              "    <button class=\"colab-df-convert\" onclick=\"convertToInteractive('df-595ead8e-5276-4de9-bfbe-1de4072da147')\"\n",
              "            title=\"Convert this dataframe to an interactive table.\"\n",
              "            style=\"display:none;\">\n",
              "\n",
              "  <svg xmlns=\"http://www.w3.org/2000/svg\" height=\"24px\" viewBox=\"0 -960 960 960\">\n",
              "    <path d=\"M120-120v-720h720v720H120Zm60-500h600v-160H180v160Zm220 220h160v-160H400v160Zm0 220h160v-160H400v160ZM180-400h160v-160H180v160Zm440 0h160v-160H620v160ZM180-180h160v-160H180v160Zm440 0h160v-160H620v160Z\"/>\n",
              "  </svg>\n",
              "    </button>\n",
              "\n",
              "  <style>\n",
              "    .colab-df-container {\n",
              "      display:flex;\n",
              "      gap: 12px;\n",
              "    }\n",
              "\n",
              "    .colab-df-convert {\n",
              "      background-color: #E8F0FE;\n",
              "      border: none;\n",
              "      border-radius: 50%;\n",
              "      cursor: pointer;\n",
              "      display: none;\n",
              "      fill: #1967D2;\n",
              "      height: 32px;\n",
              "      padding: 0 0 0 0;\n",
              "      width: 32px;\n",
              "    }\n",
              "\n",
              "    .colab-df-convert:hover {\n",
              "      background-color: #E2EBFA;\n",
              "      box-shadow: 0px 1px 2px rgba(60, 64, 67, 0.3), 0px 1px 3px 1px rgba(60, 64, 67, 0.15);\n",
              "      fill: #174EA6;\n",
              "    }\n",
              "\n",
              "    .colab-df-buttons div {\n",
              "      margin-bottom: 4px;\n",
              "    }\n",
              "\n",
              "    [theme=dark] .colab-df-convert {\n",
              "      background-color: #3B4455;\n",
              "      fill: #D2E3FC;\n",
              "    }\n",
              "\n",
              "    [theme=dark] .colab-df-convert:hover {\n",
              "      background-color: #434B5C;\n",
              "      box-shadow: 0px 1px 3px 1px rgba(0, 0, 0, 0.15);\n",
              "      filter: drop-shadow(0px 1px 2px rgba(0, 0, 0, 0.3));\n",
              "      fill: #FFFFFF;\n",
              "    }\n",
              "  </style>\n",
              "\n",
              "    <script>\n",
              "      const buttonEl =\n",
              "        document.querySelector('#df-595ead8e-5276-4de9-bfbe-1de4072da147 button.colab-df-convert');\n",
              "      buttonEl.style.display =\n",
              "        google.colab.kernel.accessAllowed ? 'block' : 'none';\n",
              "\n",
              "      async function convertToInteractive(key) {\n",
              "        const element = document.querySelector('#df-595ead8e-5276-4de9-bfbe-1de4072da147');\n",
              "        const dataTable =\n",
              "          await google.colab.kernel.invokeFunction('convertToInteractive',\n",
              "                                                    [key], {});\n",
              "        if (!dataTable) return;\n",
              "\n",
              "        const docLinkHtml = 'Like what you see? Visit the ' +\n",
              "          '<a target=\"_blank\" href=https://colab.research.google.com/notebooks/data_table.ipynb>data table notebook</a>'\n",
              "          + ' to learn more about interactive tables.';\n",
              "        element.innerHTML = '';\n",
              "        dataTable['output_type'] = 'display_data';\n",
              "        await google.colab.output.renderOutput(dataTable, element);\n",
              "        const docLink = document.createElement('div');\n",
              "        docLink.innerHTML = docLinkHtml;\n",
              "        element.appendChild(docLink);\n",
              "      }\n",
              "    </script>\n",
              "  </div>\n",
              "\n",
              "\n",
              "<div id=\"df-f864770c-73a2-4ae8-a3c9-6562612d9f44\">\n",
              "  <button class=\"colab-df-quickchart\" onclick=\"quickchart('df-f864770c-73a2-4ae8-a3c9-6562612d9f44')\"\n",
              "            title=\"Suggest charts\"\n",
              "            style=\"display:none;\">\n",
              "\n",
              "<svg xmlns=\"http://www.w3.org/2000/svg\" height=\"24px\"viewBox=\"0 0 24 24\"\n",
              "     width=\"24px\">\n",
              "    <g>\n",
              "        <path d=\"M19 3H5c-1.1 0-2 .9-2 2v14c0 1.1.9 2 2 2h14c1.1 0 2-.9 2-2V5c0-1.1-.9-2-2-2zM9 17H7v-7h2v7zm4 0h-2V7h2v10zm4 0h-2v-4h2v4z\"/>\n",
              "    </g>\n",
              "</svg>\n",
              "  </button>\n",
              "\n",
              "<style>\n",
              "  .colab-df-quickchart {\n",
              "      --bg-color: #E8F0FE;\n",
              "      --fill-color: #1967D2;\n",
              "      --hover-bg-color: #E2EBFA;\n",
              "      --hover-fill-color: #174EA6;\n",
              "      --disabled-fill-color: #AAA;\n",
              "      --disabled-bg-color: #DDD;\n",
              "  }\n",
              "\n",
              "  [theme=dark] .colab-df-quickchart {\n",
              "      --bg-color: #3B4455;\n",
              "      --fill-color: #D2E3FC;\n",
              "      --hover-bg-color: #434B5C;\n",
              "      --hover-fill-color: #FFFFFF;\n",
              "      --disabled-bg-color: #3B4455;\n",
              "      --disabled-fill-color: #666;\n",
              "  }\n",
              "\n",
              "  .colab-df-quickchart {\n",
              "    background-color: var(--bg-color);\n",
              "    border: none;\n",
              "    border-radius: 50%;\n",
              "    cursor: pointer;\n",
              "    display: none;\n",
              "    fill: var(--fill-color);\n",
              "    height: 32px;\n",
              "    padding: 0;\n",
              "    width: 32px;\n",
              "  }\n",
              "\n",
              "  .colab-df-quickchart:hover {\n",
              "    background-color: var(--hover-bg-color);\n",
              "    box-shadow: 0 1px 2px rgba(60, 64, 67, 0.3), 0 1px 3px 1px rgba(60, 64, 67, 0.15);\n",
              "    fill: var(--button-hover-fill-color);\n",
              "  }\n",
              "\n",
              "  .colab-df-quickchart-complete:disabled,\n",
              "  .colab-df-quickchart-complete:disabled:hover {\n",
              "    background-color: var(--disabled-bg-color);\n",
              "    fill: var(--disabled-fill-color);\n",
              "    box-shadow: none;\n",
              "  }\n",
              "\n",
              "  .colab-df-spinner {\n",
              "    border: 2px solid var(--fill-color);\n",
              "    border-color: transparent;\n",
              "    border-bottom-color: var(--fill-color);\n",
              "    animation:\n",
              "      spin 1s steps(1) infinite;\n",
              "  }\n",
              "\n",
              "  @keyframes spin {\n",
              "    0% {\n",
              "      border-color: transparent;\n",
              "      border-bottom-color: var(--fill-color);\n",
              "      border-left-color: var(--fill-color);\n",
              "    }\n",
              "    20% {\n",
              "      border-color: transparent;\n",
              "      border-left-color: var(--fill-color);\n",
              "      border-top-color: var(--fill-color);\n",
              "    }\n",
              "    30% {\n",
              "      border-color: transparent;\n",
              "      border-left-color: var(--fill-color);\n",
              "      border-top-color: var(--fill-color);\n",
              "      border-right-color: var(--fill-color);\n",
              "    }\n",
              "    40% {\n",
              "      border-color: transparent;\n",
              "      border-right-color: var(--fill-color);\n",
              "      border-top-color: var(--fill-color);\n",
              "    }\n",
              "    60% {\n",
              "      border-color: transparent;\n",
              "      border-right-color: var(--fill-color);\n",
              "    }\n",
              "    80% {\n",
              "      border-color: transparent;\n",
              "      border-right-color: var(--fill-color);\n",
              "      border-bottom-color: var(--fill-color);\n",
              "    }\n",
              "    90% {\n",
              "      border-color: transparent;\n",
              "      border-bottom-color: var(--fill-color);\n",
              "    }\n",
              "  }\n",
              "</style>\n",
              "\n",
              "  <script>\n",
              "    async function quickchart(key) {\n",
              "      const quickchartButtonEl =\n",
              "        document.querySelector('#' + key + ' button');\n",
              "      quickchartButtonEl.disabled = true;  // To prevent multiple clicks.\n",
              "      quickchartButtonEl.classList.add('colab-df-spinner');\n",
              "      try {\n",
              "        const charts = await google.colab.kernel.invokeFunction(\n",
              "            'suggestCharts', [key], {});\n",
              "      } catch (error) {\n",
              "        console.error('Error during call to suggestCharts:', error);\n",
              "      }\n",
              "      quickchartButtonEl.classList.remove('colab-df-spinner');\n",
              "      quickchartButtonEl.classList.add('colab-df-quickchart-complete');\n",
              "    }\n",
              "    (() => {\n",
              "      let quickchartButtonEl =\n",
              "        document.querySelector('#df-f864770c-73a2-4ae8-a3c9-6562612d9f44 button');\n",
              "      quickchartButtonEl.style.display =\n",
              "        google.colab.kernel.accessAllowed ? 'block' : 'none';\n",
              "    })();\n",
              "  </script>\n",
              "</div>\n",
              "    </div>\n",
              "  </div>\n"
            ],
            "application/vnd.google.colaboratory.intrinsic+json": {
              "type": "dataframe",
              "variable_name": "df",
              "summary": "{\n  \"name\": \"df\",\n  \"rows\": 66119,\n  \"fields\": [\n    {\n      \"column\": \"text\",\n      \"properties\": {\n        \"dtype\": \"string\",\n        \"num_unique_values\": 63010,\n        \"samples\": [\n          \"\\u0411\\u042b\\u0421\\u0422\\u0420\\u041e \\u0420\\u0410\\u0417\\u0411\\u041e\\u0413\\u0410\\u0422\\u0415\\u0419\\u0422\\u0415: \\u041f\\u0420\\u0418\\u0421\\u041e\\u0415\\u0414\\u0418\\u041d\\u042f\\u0419\\u0422\\u0415\\u0421\\u042c \\u041a \\u041d\\u0410\\u0428\\u0415\\u0419 \\u041d\\u041e\\u0412\\u041e\\u0419 \\u0421\\u0425\\u0415\\u041c\\u0415 MLM \\u0421\\u0415\\u0413\\u041e\\u0414\\u041d\\u042f!!!! \\u041f\\u0440\\u0438\\u0432\\u0435\\u0442, \\u043b\\u044e\\u0434\\u0438 \\u043d\\u0430 \\u044d\\u0442\\u043e\\u0439 \\u043f\\u0440\\u0435\\u043a\\u0440\\u0430\\u0441\\u043d\\u043e\\u0439 \\u043f\\u043b\\u0430\\u043d\\u0435\\u0442\\u0435! \\u0412\\u044b \\u043a\\u043e\\u0433\\u0434\\u0430-\\u043d\\u0438\\u0431\\u0443\\u0434\\u044c \\u043c\\u0435\\u0447\\u0442\\u0430\\u043b\\u0438 \\u0441\\u0442\\u0430\\u0442\\u044c \\u0441\\u0432\\u043e\\u0438\\u043c \\u0441\\u043e\\u0431\\u0441\\u0442\\u0432\\u0435\\u043d\\u043d\\u044b\\u043c \\u0431\\u043e\\u0441\\u0441\\u043e\\u043c \\u0438 \\u0437\\u0430\\u0440\\u0430\\u0431\\u0430\\u0442\\u044b\\u0432\\u0430\\u0442\\u044c \\u043c\\u0438\\u043b\\u043b\\u0438\\u043e\\u043d\\u044b \\u0434\\u043e\\u043b\\u043b\\u0430\\u0440\\u043e\\u0432, \\u043d\\u0435 \\u043f\\u0440\\u0438\\u043a\\u043b\\u0430\\u0434\\u044b\\u0432\\u0430\\u044f \\u043d\\u0438\\u043a\\u0430\\u043a\\u0438\\u0445 \\u0443\\u0441\\u0438\\u043b\\u0438\\u0439? \\u0427\\u0442\\u043e \\u0436, \\u0443 \\u043d\\u0430\\u0441 \\u0435\\u0441\\u0442\\u044c \\u0440\\u0435\\u0448\\u0435\\u043d\\u0438\\u0435 \\u0434\\u043b\\u044f \\u0432\\u0430\\u0441 \\u2014 \\u043d\\u0430\\u0448\\u0430 \\u0441\\u043e\\u0432\\u0435\\u0440\\u0448\\u0435\\u043d\\u043d\\u043e \\u043d\\u043e\\u0432\\u0430\\u044f \\u0441\\u0445\\u0435\\u043c\\u0430 \\u043c\\u043d\\u043e\\u0433\\u043e\\u0443\\u0440\\u043e\\u0432\\u043d\\u0435\\u0432\\u043e\\u0433\\u043e \\u043c\\u0430\\u0440\\u043a\\u0435\\u0442\\u0438\\u043d\\u0433\\u0430 (MLM)! \\u041f\\u0440\\u0438\\u0433\\u043e\\u0442\\u043e\\u0432\\u044c\\u0442\\u0435\\u0441\\u044c \\u043f\\u043e\\u043f\\u0440\\u043e\\u0449\\u0430\\u0442\\u044c\\u0441\\u044f \\u0441 9 \\u0434\\u043e 5 \\u0438 \\u043f\\u043e\\u0437\\u0434\\u043e\\u0440\\u043e\\u0432\\u0430\\u0442\\u044c\\u0441\\u044f \\u0441 \\u0436\\u0438\\u0437\\u043d\\u044c\\u044e \\u0441\\u0432\\u043e\\u0435\\u0439 \\u043c\\u0435\\u0447\\u0442\\u044b! \\u041f\\u0440\\u043e\\u0441\\u0442\\u043e \\u0437\\u0430\\u0440\\u0435\\u0433\\u0438\\u0441\\u0442\\u0440\\u0438\\u0440\\u0443\\u0439\\u0442\\u0435\\u0441\\u044c \\u0443 \\u043d\\u0430\\u0441 \\u0438 \\u043d\\u0430\\u0447\\u043d\\u0438\\u0442\\u0435 \\u043f\\u0440\\u043e\\u0434\\u0430\\u0432\\u0430\\u0442\\u044c \\u043d\\u0430\\u0448\\u0438 \\u043f\\u043e\\u0442\\u0440\\u044f\\u0441\\u0430\\u044e\\u0449\\u0438\\u0435 \\u043f\\u0440\\u043e\\u0434\\u0443\\u043a\\u0442\\u044b \\u0432\\u0441\\u0435\\u043c, \\u043a\\u043e\\u0433\\u043e \\u0432\\u044b \\u0437\\u043d\\u0430\\u0435\\u0442\\u0435! \\u042d\\u0442\\u043e \\u043b\\u0435\\u0433\\u043a\\u043e, \\u043f\\u0440\\u043e\\u0441\\u0442\\u043e \\u0438 \\u044d\\u0442\\u043e \\u0432\\u0435\\u0440\\u043d\\u044b\\u0439 \\u0441\\u043f\\u043e\\u0441\\u043e\\u0431 \\u0431\\u044b\\u0441\\u0442\\u0440\\u043e \\u0440\\u0430\\u0437\\u0431\\u043e\\u0433\\u0430\\u0442\\u0435\\u0442\\u044c! \\u0412\\u044b \\u043c\\u043e\\u0436\\u0435\\u0442\\u0435 \\u043a\\u0443\\u043f\\u0438\\u0442\\u044c \\u043d\\u0430\\u0448\\u0438 \\u043f\\u0440\\u043e\\u0434\\u0443\\u043a\\u0442\\u044b \\u0441\",\n          \"   \\u0421\\u043f\\u0430\\u0441\\u0438\\u0442\\u0435 \\u043f\\u043b\\u0430\\u043d\\u0435\\u0442\\u0443 \\u0443\\u0431\\u0435\\u0439\\u0442\\u0435 \\u043b\\u044e\\u0434\\u0435\\u0439 \\u043f\\u043e\\u0441\\u043b\\u0435\\u0434\\u043d\\u0438\\u0435 \\u043d\\u043e\\u0432\\u043e\\u0441\\u0442\\u0438 - <link> \\u041f\\u044f\\u0442\\u043d\\u0438\\u0446\\u0430 6 \\u0441\\u0435\\u043d\\u0442\\u044f\\u0431\\u0440\\u044f 2002 \\u0433 08 53 GMT 09 53 \\u0412\\u0435\\u043b\\u0438\\u043a\\u043e\\u0431\\u0440\\u0438\\u0442\\u0430\\u043d\\u0438\\u044f \\u0417\\u0438\\u043c\\u0431\\u0430\\u0431\\u0432\\u0435 \\u0441\\u043c\\u044f\\u0433\\u0447\\u0430\\u0435\\u0442 \\u043f\\u043e\\u0437\\u0438\\u0446\\u0438\\u044e \\u043f\\u043e \\u0413\\u041c \\u0417\\u0438\\u043c\\u0431\\u0430\\u0431\\u0432\\u0435 \\u0441\\u043d\\u044f\\u043b\\u0430 \\u0432\\u043e\\u0437\\u0440\\u0430\\u0436\\u0435\\u043d\\u0438\\u044f \\u043f\\u0440\\u043e\\u0442\\u0438\\u0432 \\u043f\\u0440\\u0438\\u043d\\u044f\\u0442\\u0438\\u044f \\u0433\\u0435\\u043d\\u0435\\u0442\\u0438\\u0447\\u0435\\u0441\\u043a\\u0438 \\u043c\\u043e\\u0434\\u0438\\u0444\\u0438\\u0446\\u0438\\u0440\\u043e\\u0432\\u0430\\u043d\\u043d\\u043e\\u0433\\u043e  \\u0413\\u041c  \\u0437\\u0435\\u0440\\u043d\\u0430 \\u0447\\u0442\\u043e\\u0431\\u044b \\u043c\\u043e\\u0436\\u043d\\u043e \\u0431\\u044b\\u043b\\u043e \\u0434\\u043e\\u0441\\u0442\\u0430\\u0432\\u0438\\u0442\\u044c \\u0441\\u0440\\u043e\\u0447\\u043d\\u043e \\u043d\\u0435\\u043e\\u0431\\u0445\\u043e\\u0434\\u0438\\u043c\\u0443\\u044e \\u043f\\u0440\\u043e\\u0434\\u043e\\u0432\\u043e\\u043b\\u044c\\u0441\\u0442\\u0432\\u0435\\u043d\\u043d\\u0443\\u044e \\u043f\\u043e\\u043c\\u043e\\u0449\\u044c \\u0441\\u043e\\u043e\\u0431\\u0449\\u0430\\u0435\\u0442 \\u043f\\u0440\\u043e\\u0434\\u043e\\u0432\\u043e\\u043b\\u044c\\u0441\\u0442\\u0432\\u0435\\u043d\\u043d\\u043e\\u0435 \\u0430\\u0433\\u0435\\u043d\\u0442\\u0441\\u0442\\u0432\\u043e \\u041e\\u041e\\u041d \\u0418\\u0441\\u043f\\u043e\\u043b\\u043d\\u0438\\u0442\\u0435\\u043b\\u044c\\u043d\\u044b\\u0439 \\u0434\\u0438\\u0440\\u0435\\u043a\\u0442\\u043e\\u0440 \\u0412\\u0441\\u0435\\u043c\\u0438\\u0440\\u043d\\u043e\\u0439 \\u043f\\u0440\\u043e\\u0434\\u043e\\u0432\\u043e\\u043b\\u044c\\u0441\\u0442\\u0432\\u0435\\u043d\\u043d\\u043e\\u0439 \\u043f\\u0440\\u043e\\u0433\\u0440\\u0430\\u043c\\u043c\\u044b \\u0414\\u0436\\u0435\\u0439\\u043c\\u0441 \\u041c\\u043e\\u0440\\u0440\\u0438\\u0441 \\u0441\\u043a\\u0430\\u0437\\u0430\\u043b \\u0447\\u0442\\u043e \\u0440\\u0435\\u0448\\u0435\\u043d\\u0438\\u0435 \\u0417\\u0438\\u043c\\u0431\\u0430\\u0431\\u0432\\u0435 \\u043f\\u043e\\u0448\\u043b\\u0435\\u0442 \\u0432\\u0430\\u0436\\u043d\\u044b\\u0439 \\u0441\\u0438\\u0433\\u043d\\u0430\\u043b \\u0434\\u0440\\u0443\\u0433\\u0438\\u043c \\u0441\\u0442\\u0440\\u0430\\u043d\\u0430\\u043c \\u0440\\u0435\\u0433\\u0438\\u043e\\u043d\\u0430 \\u043a\\u043e\\u0442\\u043e\\u0440\\u044b\\u0435 \\u043e\\u0442\\u043a\\u0430\\u0437\\u0430\\u043b\\u0438\\u0441\\u044c \\u043e\\u0442 \\u043f\\u0440\\u043e\\u0434\\u043e\\u0432\\u043e\\u043b\\u044c\\u0441\\u0442\\u0432\\u0435\\u043d\\u043d\\u043e\\u0439 \\u043f\\u043e\\u043c\\u043e\\u0449\\u0438 \\u043f\\u043e\\u0441\\u043a\\u043e\\u043b\\u044c\\u043a\\u0443 \\u043e\\u043d\\u0430 \\u043c\\u043e\\u0433\\u043b\\u0430 \\u0441\\u043e\\u0434\\u0435\\u0440\\u0436\\u0430\\u0442\\u044c \\u0413\\u041c \\u0437\\u0435\\u0440\\u043d\\u043e \\u0414\\u043e \\u0441\\u0438\\u0445 \\u043f\\u043e\\u0440 \\u0417\\u0438\\u043c\\u0431\\u0430\\u0431\\u0432\\u0435 \\u0437\\u0430\\u044f\\u0432\\u043b\\u044f\\u043b\\u0430 \\u0447\\u0442\\u043e \\u043f\\u043e\\u0437\\u0432\\u043e\\u043b\\u0438\\u0442 \\u0440\\u0430\\u0431\\u043e\\u0442\\u043d\\u0438\\u043a\\u0430\\u043c \\u0433\\u0443\\u043c\\u0430\\u043d\\u0438\\u0442\\u0430\\u0440\\u043d\\u044b\\u0445 \\u043e\\u0440\\u0433\\u0430\\u043d\\u0438\\u0437\\u0430\\u0446\\u0438\\u0439 \\u0442\\u043e\\u043b\\u044c\\u043a\\u043e \\u0440\\u0430\\u0441\\u043f\\u0440\\u0435\\u0434\\u0435\\u043b\\u044f\\u0442\\u044c \\u043c\\u043e\\u043b\\u043e\\u0442\\u0443\\u044e \\u043a\\u0443\\u043a\\u0443\\u0440\\u0443\\u0437\\u0443 \\u0447\\u0442\\u043e\\u0431\\u044b \\u0440\\u0430\\u0437\\u0432\\u0435\\u044f\\u0442\\u044c \\u043e\\u043f\\u0430\\u0441\\u0435\\u043d\\u0438\\u044f \\u0447\\u0442\\u043e \\u0413\\u041c \\u0437\\u0435\\u0440\\u043d\\u043e \\u043c\\u043e\\u0436\\u0435\\u0442 \\u0431\\u044b\\u0442\\u044c \\u043f\\u043e\\u0441\\u0430\\u0436\\u0435\\u043d\\u043e \\u041d\\u043e \\u043c\\u0438\\u043d\\u0438\\u0441\\u0442\\u0440 \\u0417\\u0438\\u043c\\u0431\\u0430\\u0431\\u0432\\u0435 \\u0433\\u043e\\u0432\\u043e\\u0440\\u0438\\u0442 \\u0447\\u0442\\u043e \\u043f\\u0440\\u0430\\u0432\\u0438\\u0442\\u0435\\u043b\\u044c\\u0441\\u0442\\u0432\\u043e \\u0442\\u0435\\u043f\\u0435\\u0440\\u044c \\u0441\\u043e\\u0437\\u0434\\u0430\\u043b\\u043e \\u0441\\u0438\\u0441\\u0442\\u0435\\u043c\\u0443 \\u043f\\u0440\\u043e\\u0432\\u0435\\u0440\\u043e\\u043a \\u0447\\u0442\\u043e\\u0431\\u044b \\u0433\\u0430\\u0440\\u0430\\u043d\\u0442\\u0438\\u0440\\u043e\\u0432\\u0430\\u0442\\u044c \\u0447\\u0442\\u043e \\u0437\\u0435\\u0440\\u043d\\u043e \\u043d\\u0435 \\u043f\\u043e\\u043f\\u0430\\u0434\\u0435\\u0442 \\u0432 \\u044d\\u043a\\u043e\\u0441\\u0438\\u0441\\u0442\\u0435\\u043c\\u0443 \\u0411\\u044b\\u043b\\u0438 \\u043e\\u043f\\u0430\\u0441\\u0435\\u043d\\u0438\\u044f \\u0447\\u0442\\u043e \\u0441\\u0442\\u0440\\u0430\\u043d\\u044b \\u042e\\u0436\\u043d\\u043e\\u0439 \\u0410\\u0444\\u0440\\u0438\\u043a\\u0438 \\u043c\\u043e\\u0433\\u0443\\u0442 \\u043f\\u043e\\u0442\\u0435\\u0440\\u044f\\u0442\\u044c \\u043f\\u0440\\u0438\\u0431\\u044b\\u043b\\u044c\\u043d\\u044b\\u0435 \\u044d\\u043a\\u0441\\u043f\\u043e\\u0440\\u0442\\u043d\\u044b\\u0435 \\u0440\\u044b\\u043d\\u043a\\u0438 \\u0432 \\u0415\\u0432\\u0440\\u043e\\u043f\\u0435 \\u0435\\u0441\\u043b\\u0438 \\u043e\\u043d\\u0438 \\u043d\\u0435 \\u0441\\u043c\\u043e\\u0433\\u0443\\u0442 \\u043f\\u043e\\u0434\\u0442\\u0432\\u0435\\u0440\\u0434\\u0438\\u0442\\u044c \\u0447\\u0442\\u043e \\u0438\\u0445 \\u043a\\u0443\\u043b\\u044c\\u0442\\u0443\\u0440\\u044b \\u043d\\u0435 \\u0441\\u043e\\u0434\\u0435\\u0440\\u0436\\u0430\\u0442 \\u0413\\u041c\\u041e \\u0413-\\u043d \\u041c\\u043e\\u0440\\u0440\\u0438\\u0441 \\u043e\\u0431\\u044a\\u044f\\u0432\\u0438\\u043b \\u043e\\u0431 \\u0438\\u0437\\u043c\\u0435\\u043d\\u0435\\u043d\\u0438\\u0438 \\u043f\\u043e\\u043b\\u0438\\u0442\\u0438\\u043a\\u0438 \\u043f\\u043e\\u0441\\u043b\\u0435 \\u043f\\u0435\\u0440\\u0435\\u0433\\u043e\\u0432\\u043e\\u0440\\u043e\\u0432 \\u0432 \\u0425\\u0430\\u0440\\u0430\\u0440\\u0435 \\u0441 \\u043f\\u0440\\u0435\\u0437\\u0438\\u0434\\u0435\\u043d\\u0442\\u043e\\u043c \\u0417\\u0438\\u043c\\u0431\\u0430\\u0431\\u0432\\u0435 \\u0420\\u043e\\u0431\\u0435\\u0440\\u0442\\u043e\\u043c \\u041c\\u0443\\u0433\\u0430\\u0431\\u0435 \\u0422\\u043e\\u0442 \\u0444\\u0430\\u043a\\u0442 \\u0447\\u0442\\u043e \\u043e\\u043d\\u0438 \\u0442\\u0435\\u043f\\u0435\\u0440\\u044c \\u043f\\u0440\\u0438\\u0448\\u043b\\u0438 \\u043a \\u0432\\u044b\\u0432\\u043e\\u0434\\u0443 \\u0447\\u0442\\u043e \\u0438\\u043c \\u043a\\u043e\\u043c\\u0444\\u043e\\u0440\\u0442\\u043d\\u043e \\u043f\\u0440\\u0438\\u043d\\u0438\\u043c\\u0430\\u0442\\u044c \\u0413\\u041c\\u041e-\\u043a\\u0443\\u043b\\u044c\\u0442\\u0443\\u0440\\u044b \\u0438\\u043b\\u0438 \\u0442\\u043e\\u0432\\u0430\\u0440\\u044b \\u0441\\u0442\\u0430\\u043d\\u0435\\u0442 \\u0432\\u0430\\u0436\\u043d\\u044b\\u043c \\u0441\\u0438\\u0433\\u043d\\u0430\\u043b\\u043e\\u043c \\u0434\\u043b\\u044f \\u0434\\u0440\\u0443\\u0433\\u0438\\u0445 \\u0441\\u0442\\u0440\\u0430\\u043d \\u0440\\u0435\\u0433\\u0438\\u043e\\u043d\\u0430 - \\u0441\\u043a\\u0430\\u0437\\u0430\\u043b \\u0433-\\u043d \\u041c\\u043e\\u0440\\u0440\\u0438\\u0441 \\u0436\\u0443\\u0440\\u043d\\u0430\\u043b\\u0438\\u0441\\u0442\\u0430\\u043c \\u042d\\u0442\\u043e \\u043f\\u043e\\u0437\\u0432\\u043e\\u043b\\u0438\\u0442 \\u043d\\u0430\\u043c \\u0432\\u044b\\u043f\\u043e\\u043b\\u043d\\u044f\\u0442\\u044c \\u0441\\u0432\\u043e\\u044e \\u0440\\u0430\\u0431\\u043e\\u0442\\u0443 - \\u0441\\u043a\\u0430\\u0437\\u0430\\u043b \\u043e\\u043d \\u0421\\u043e\\u0442\\u0440\\u0443\\u0434\\u043d\\u0438\\u043a\\u0438 \\u0433\\u0443\\u043c\\u0430\\u043d\\u0438\\u0442\\u0430\\u0440\\u043d\\u044b\\u0445 \\u043e\\u0440\\u0433\\u0430\\u043d\\u0438\\u0437\\u0430\\u0446\\u0438\\u0439 \\u0433\\u043e\\u0432\\u043e\\u0440\\u044f\\u0442 \\u0447\\u0442\\u043e \\u0434\\u043e 13 \\u043c\\u0438\\u043b\\u043b\\u0438\\u043e\\u043d\\u043e\\u0432 \\u0447\\u0435\\u043b\\u043e\\u0432\\u0435\\u043a \\u0432 \\u0441\\u0435\\u043c\\u0438 \\u0441\\u0442\\u0440\\u0430\\u043d\\u0430\\u0445 \\u042e\\u0436\\u043d\\u043e\\u0439 \\u0410\\u0444\\u0440\\u0438\\u043a\\u0438 \\u0441\\u0442\\u0430\\u043b\\u043a\\u0438\\u0432\\u0430\\u044e\\u0442\\u0441\\u044f \\u0441 \\u0433\\u043e\\u043b\\u043e\\u0434\\u043e\\u043c \\u0412 \\u0417\\u0438\\u043c\\u0431\\u0430\\u0431\\u0432\\u0435 \\u043a\\u043e\\u0442\\u043e\\u0440\\u0430\\u044f \\u043a\\u043e\\u0433\\u0434\\u0430-\\u0442\\u043e \\u0431\\u044b\\u043b\\u0430 \\u0436\\u0438\\u0442\\u043d\\u0438\\u0446\\u0435\\u0439 \\u0440\\u0435\\u0433\\u0438\\u043e\\u043d\\u0430 \\u043f\\u043e \\u043e\\u0446\\u0435\\u043d\\u043a\\u0430\\u043c \\u043e\\u043a\\u043e\\u043b\\u043e \\u0448\\u0435\\u0441\\u0442\\u0438 \\u043c\\u0438\\u043b\\u043b\\u0438\\u043e\\u043d\\u043e\\u0432 \\u0447\\u0435\\u043b\\u043e\\u0432\\u0435\\u043a \\u043d\\u0443\\u0436\\u0434\\u0430\\u044e\\u0442\\u0441\\u044f \\u0432 \\u043f\\u0440\\u043e\\u0434\\u043e\\u0432\\u043e\\u043b\\u044c\\u0441\\u0442\\u0432\\u0435\\u043d\\u043d\\u043e\\u0439 \\u043f\\u043e\\u043c\\u043e\\u0449\\u0438 \\u0412\\u041f\\u041f \\u0437\\u0430\\u044f\\u0432\\u043b\\u044f\\u0435\\u0442 \\u0447\\u0442\\u043e \\u0443 \\u043d\\u0435\\u0435 \\u0443\\u0436\\u0435 \\u0435\\u0441\\u0442\\u044c \\u043e\\u0431\\u044f\\u0437\\u0430\\u0442\\u0435\\u043b\\u044c\\u0441\\u0442\\u0432\\u0430 \\u043f\\u043e \\u043e\\u043a\\u0430\\u0437\\u0430\\u043d\\u0438\\u044e \\u043f\\u043e\\u043c\\u043e\\u0449\\u0438 \\u043f\\u0440\\u0438\\u043c\\u0435\\u0440\\u043d\\u043e \\u043d\\u0430 \\u043f\\u043e\\u043b\\u043e\\u0432\\u0438\\u043d\\u0443 \\u0438\\u0437 600 000 \\u0442\\u043e\\u043d\\u043d \\u043f\\u0440\\u043e\\u0434\\u043e\\u0432\\u043e\\u043b\\u044c\\u0441\\u0442\\u0432\\u0438\\u044f \\u043a\\u043e\\u0442\\u043e\\u0440\\u044b\\u0435 \\u043e\\u043d\\u0430 \\u043d\\u0430\\u043c\\u0435\\u0440\\u0435\\u043d\\u0430 \\u0432\\u0432\\u0435\\u0437\\u0442\\u0438 \\u0432 \\u0417\\u0438\\u043c\\u0431\\u0430\\u0431\\u0432\\u0435 \\u0432 \\u0431\\u043b\\u0438\\u0436\\u0430\\u0439\\u0448\\u0438\\u0435 \\u043d\\u0435\\u0441\\u043a\\u043e\\u043b\\u044c\\u043a\\u043e \\u043c\\u0435\\u0441\\u044f\\u0446\\u0435\\u0432 \\u041f\\u0440\\u0430\\u0432\\u0438\\u0442\\u0435\\u043b\\u044c\\u0441\\u0442\\u0432\\u043e \\u0432\\u0438\\u043d\\u0438\\u0442 \\u0432 \\u0434\\u0435\\u0444\\u0438\\u0446\\u0438\\u0442\\u0435 \\u0438\\u0441\\u043a\\u043b\\u044e\\u0447\\u0438\\u0442\\u0435\\u043b\\u044c\\u043d\\u043e \\u0437\\u0430\\u0441\\u0443\\u0445\\u0443 \\u043d\\u043e \\u043f\\u0440\\u0430\\u0432\\u0438\\u0442\\u0435\\u043b\\u044c\\u0441\\u0442\\u0432\\u0435\\u043d\\u043d\\u0430\\u044f \\u043a\\u0430\\u043c\\u043f\\u0430\\u043d\\u0438\\u044f \\u043f\\u043e \\u043f\\u0435\\u0440\\u0435\\u0434\\u0430\\u0447\\u0435 \\u0437\\u0435\\u043c\\u043b\\u0438 \\u043a\\u0440\\u0443\\u043f\\u043d\\u044b\\u043c \\u043a\\u043e\\u043c\\u043c\\u0435\\u0440\\u0447\\u0435\\u0441\\u043a\\u0438\\u043c \\u0431\\u0435\\u043b\\u044b\\u043c \\u0444\\u0435\\u0440\\u043c\\u0435\\u0440\\u0430\\u043c \\u0443\\u0445\\u0443\\u0434\\u0448\\u0438\\u043b\\u0430 \\u0441\\u0438\\u0442\\u0443\\u0430\\u0446\\u0438\\u044e \\u0433\\u043e\\u0432\\u043e\\u0440\\u044f\\u0442 \\u043c\\u043d\\u043e\\u0433\\u0438\\u0435 \\u0434\\u043e\\u043d\\u043e\\u0440\\u044b \\u041f\\u043e\\u0442\\u0435\\u0440\\u044f\\u043d\\u043d\\u044b\\u0435 \\u0440\\u044b\\u043d\\u043a\\u0438 \\u0421\\u043a\\u0430\\u043d\\u0434\\u0430\\u043b \\u0432\\u043e\\u043a\\u0440\\u0443\\u0433 \\u0413\\u041c-\\u043a\\u0443\\u043b\\u044c\\u0442\\u0443\\u0440 \\u043e\\u0441\\u043b\\u043e\\u0436\\u043d\\u0438\\u043b \\u0443\\u0441\\u0438\\u043b\\u0438\\u044f \\u043f\\u043e \\u043e\\u043a\\u0430\\u0437\\u0430\\u043d\\u0438\\u044e \\u043f\\u043e\\u043c\\u043e\\u0449\\u0438 \\u043f\\u043e \\u0432\\u0441\\u0435\\u043c\\u0443 \\u0440\\u0435\\u0433\\u0438\\u043e\\u043d\\u0443 \\u041f\\u0440\\u0435\\u0437\\u0438\\u0434\\u0435\\u043d\\u0442 \\u0417\\u0430\\u043c\\u0431\\u0438\\u0438 \\u043e\\u0442\\u043a\\u0430\\u0437\\u044b\\u0432\\u0430\\u0435\\u0442\\u0441\\u044f \\u043e\\u0442\\u043c\\u0435\\u043d\\u0438\\u0442\\u044c \\u0441\\u0432\\u043e\\u0439 \\u0437\\u0430\\u043f\\u0440\\u0435\\u0442 \\u043d\\u0430 \\u043f\\u0440\\u043e\\u0434\\u043e\\u0432\\u043e\\u043b\\u044c\\u0441\\u0442\\u0432\\u0435\\u043d\\u043d\\u0443\\u044e \\u043f\\u043e\\u043c\\u043e\\u0449\\u044c \\u0441 \\u0413\\u041c-\\u043f\\u0440\\u043e\\u0434\\u0443\\u043a\\u0442\\u0430\\u043c\\u0438 \\u043d\\u0430\\u0437\\u044b\\u0432\\u0430\\u044f \\u0435\\u0435 \\u044f\\u0434\\u043e\\u043c \\u0421\\u0434\\u0435\\u043b\\u043a\\u0438 \\u043f\\u043e \\u0438\\u0437\\u043c\\u0435\\u043b\\u044c\\u0447\\u0435\\u043d\\u0438\\u044e \\u0413\\u041c-\\u043f\\u0440\\u043e\\u0434\\u0443\\u043a\\u0442\\u043e\\u0432 \\u043f\\u0435\\u0440\\u0435\\u0434 \\u0440\\u0430\\u0441\\u043f\\u0440\\u0435\\u0434\\u0435\\u043b\\u0435\\u043d\\u0438\\u0435\\u043c \\u0447\\u0442\\u043e\\u0431\\u044b \\u0438\\u0445 \\u043d\\u0435\\u043b\\u044c\\u0437\\u044f \\u0431\\u044b\\u043b\\u043e \\u043f\\u043e\\u0441\\u0430\\u0434\\u0438\\u0442\\u044c \\u0443\\u0441\\u043f\\u043e\\u043a\\u043e\\u0438\\u043b\\u0438 \\u0441\\u0442\\u0440\\u0430\\u0445\\u0438 \\u0432 \\u041c\\u0430\\u043b\\u0430\\u0432\\u0438 \\u0438 \\u041c\\u043e\\u0437\\u0430\\u043c\\u0431\\u0438\\u043a\\u0435 \\u0427\\u0438\\u043d\\u043e\\u0432\\u043d\\u0438\\u043a\\u0438 \\u043f\\u043e \\u043e\\u043a\\u0430\\u0437\\u0430\\u043d\\u0438\\u044e \\u043f\\u043e\\u043c\\u043e\\u0449\\u0438 \\u0421\\u0428\\u0410 \\u043e\\u0442\\u0440\\u0438\\u0446\\u0430\\u044e\\u0442 \\u0447\\u0442\\u043e \\u0435\\u0434\\u0430 \\u043d\\u0435\\u0431\\u0435\\u0437\\u043e\\u043f\\u0430\\u0441\\u043d\\u0430 \\u0443\\u043a\\u0430\\u0437\\u044b\\u0432\\u0430\\u044f \\u043d\\u0430 \\u0442\\u043e \\u0447\\u0442\\u043e \\u0430\\u043c\\u0435\\u0440\\u0438\\u043a\\u0430\\u043d\\u0446\\u044b \\u0435\\u0434\\u044f\\u0442 \\u0413\\u041c-\\u043a\\u0443\\u043a\\u0443\\u0440\\u0443\\u0437\\u0443 \\u043a\\u0430\\u0436\\u0434\\u044b\\u0439 \\u0434\\u0435\\u043d\\u044c \\u0412\\u0441\\u0435\\u043c\\u0438\\u0440\\u043d\\u0430\\u044f \\u043e\\u0440\\u0433\\u0430\\u043d\\u0438\\u0437\\u0430\\u0446\\u0438\\u044f \\u0437\\u0434\\u0440\\u0430\\u0432\\u043e\\u043e\\u0445\\u0440\\u0430\\u043d\\u0435\\u043d\\u0438\\u044f \\u0441\\u0435\\u0440\\u0442\\u0438\\u0444\\u0438\\u0446\\u0438\\u0440\\u043e\\u0432\\u0430\\u043b\\u0430 \\u0437\\u0435\\u0440\\u043d\\u043e \\u0434\\u043b\\u044f \\u0443\\u043f\\u043e\\u0442\\u0440\\u0435\\u0431\\u043b\\u0435\\u043d\\u0438\\u044f \\u0432 \\u043f\\u0438\\u0449\\u0443 \\u0447\\u0435\\u043b\\u043e\\u0432\\u0435\\u043a\\u043e\\u043c \\u0438 \\u0437\\u0430\\u044f\\u0432\\u0438\\u043b\\u0430 \\u0447\\u0442\\u043e \\u043e\\u043d\\u043e \\u043d\\u0435 \\u043f\\u0440\\u0435\\u0434\\u0441\\u0442\\u0430\\u0432\\u043b\\u044f\\u0435\\u0442 \\u043e\\u043f\\u0430\\u0441\\u043d\\u043e\\u0441\\u0442\\u0438 \\u0434\\u043b\\u044f \\u0437\\u0434\\u043e\\u0440\\u043e\\u0432\\u044c\\u044f \\u043b\\u044e\\u0434\\u0435\\u0439 \\u0421\\u043f\\u043e\\u043d\\u0441\\u043e\\u0440 \\u0433\\u0440\\u0443\\u043f\\u043f Yahoo ~ > \\u0418\\u0449\\u0435\\u0442\\u0435 \\u0431\\u043e\\u043b\\u0435\\u0435 \\u043c\\u043e\\u0449\\u043d\\u044b\\u0439 \\u0432\\u0435\\u0431-\\u0441\\u0430\\u0439\\u0442 \\u041f\\u043e\\u043f\\u0440\\u043e\\u0431\\u0443\\u0439\\u0442\\u0435 GeoCities \\u0437\\u0430 8 95 \\u0434\\u043e\\u043b\\u043b \\u0432 \\u043c\\u0435\\u0441\\u044f\\u0446 \\u0417\\u0430\\u0440\\u0435\\u0433\\u0438\\u0441\\u0442\\u0440\\u0438\\u0440\\u0443\\u0439\\u0442\\u0435 \\u0441\\u0432\\u043e\\u0435 \\u0434\\u043e\\u043c\\u0435\\u043d\\u043d\\u043e\\u0435 \\u0438\\u043c\\u044f  <link> \\u0411\\u043e\\u043b\\u044c\\u0448\\u0435 \\u043c\\u0435\\u0441\\u0442\\u0430 \\u0434\\u043b\\u044f \\u0445\\u0440\\u0430\\u043d\\u0435\\u043d\\u0438\\u044f \\u041d\\u0438\\u043a\\u0430\\u043a\\u043e\\u0439 \\u0440\\u0435\\u043a\\u043b\\u0430\\u043c\\u044b <link> <link> ~-> \\u0427\\u0442\\u043e\\u0431\\u044b \\u043e\\u0442\\u043f\\u0438\\u0441\\u0430\\u0442\\u044c\\u0441\\u044f \\u043e\\u0442 \\u044d\\u0442\\u043e\\u0439 \\u0433\\u0440\\u0443\\u043f\\u043f\\u044b \\u043e\\u0442\\u043f\\u0440\\u0430\\u0432\\u044c\\u0442\\u0435 \\u044d\\u043b\\u0435\\u043a\\u0442\\u0440\\u043e\\u043d\\u043d\\u043e\\u0435 \\u043f\\u0438\\u0441\\u044c\\u043c\\u043e \\u043f\\u043e \\u0430\\u0434\\u0440\\u0435\\u0441\\u0443  forteana-unsubscribe@egroups com \\u0412\\u0430\\u0448\\u0435 \\u0438\\u0441\\u043f\\u043e\\u043b\\u044c\\u0437\\u043e\\u0432\\u0430\\u043d\\u0438\\u0435 Yahoo Groups \\u0440\\u0435\\u0433\\u0443\\u043b\\u0438\\u0440\\u0443\\u0435\\u0442\\u0441\\u044f <link>\",\n          \"\\u0410\\u0439\\u0441\\u0438\\u043a\\u044c\\u044e \\u0442\\u0435\\u0441\\u0442\"\n        ],\n        \"semantic_type\": \"\",\n        \"description\": \"\"\n      }\n    },\n    {\n      \"column\": \"is_spam\",\n      \"properties\": {\n        \"dtype\": \"number\",\n        \"std\": 0,\n        \"min\": 0,\n        \"max\": 1,\n        \"num_unique_values\": 2,\n        \"samples\": [\n          1,\n          0\n        ],\n        \"semantic_type\": \"\",\n        \"description\": \"\"\n      }\n    }\n  ]\n}"
            }
          },
          "metadata": {},
          "execution_count": 3
        }
      ]
    },
    {
      "cell_type": "code",
      "source": [
        "df = df.dropna()"
      ],
      "metadata": {
        "id": "zWTJGdnoxbxA"
      },
      "execution_count": null,
      "outputs": []
    },
    {
      "cell_type": "code",
      "source": [
        "%%capture\n",
        "!pip install --upgrade transformers"
      ],
      "metadata": {
        "id": "KT5tDpk_cnz-"
      },
      "execution_count": null,
      "outputs": []
    },
    {
      "cell_type": "code",
      "source": [
        "### Разделим данные на train, val, test 70% 20% 10%\n",
        "from sklearn.model_selection import train_test_split\n",
        "\n",
        "X = df['text']\n",
        "y = df['is_spam']\n",
        "X_train, x_valtest, y_train, y_valtest = train_test_split(X, y, test_size=0.30, random_state=8)\n",
        "\n",
        "X_val, X_test, y_val, y_test = train_test_split(x_valtest, y_valtest, test_size=0.33, random_state=8)"
      ],
      "metadata": {
        "id": "MjP5J7Occvl5"
      },
      "execution_count": null,
      "outputs": []
    },
    {
      "cell_type": "code",
      "source": [
        "from transformers import AutoModel, AutoTokenizer, BertForSequenceClassification\n",
        "\n",
        "# Путь к локальной папке с моделью\n",
        "model_path = \"bert-base-multilingual-cased\"\n",
        "\n",
        "# Загрузка модели и токенизатора\n",
        "model = BertForSequenceClassification.from_pretrained(model_path, num_labels=2)\n",
        "tokenizer = AutoTokenizer.from_pretrained(model_path)"
      ],
      "metadata": {
        "colab": {
          "base_uri": "https://localhost:8080/"
        },
        "id": "1BmrhsPndwgs",
        "outputId": "c0f39fbc-6d36-433e-b9ba-2dc23167f57f"
      },
      "execution_count": null,
      "outputs": [
        {
          "output_type": "stream",
          "name": "stderr",
          "text": [
            "Some weights of BertForSequenceClassification were not initialized from the model checkpoint at bert-base-multilingual-cased and are newly initialized: ['classifier.bias', 'classifier.weight']\n",
            "You should probably TRAIN this model on a down-stream task to be able to use it for predictions and inference.\n"
          ]
        }
      ]
    },
    {
      "cell_type": "code",
      "source": [
        "import torch\n",
        "from torch.utils.data import Dataset\n",
        "\n",
        "class SpamDataset(Dataset):\n",
        "    def __init__(self, texts, labels, tokenizer=None, max_len=128):\n",
        "        self.texts = texts\n",
        "        self.labels = labels\n",
        "        self.tokenizer = tokenizer\n",
        "        self.max_len = max_len\n",
        "\n",
        "    def __len__(self):\n",
        "        return len(self.texts)\n",
        "\n",
        "    def __getitem__(self, idx):\n",
        "        text = self.texts[idx]\n",
        "        label = self.labels[idx]\n",
        "\n",
        "        if tokenizer:\n",
        "            encoding = self.tokenizer(\n",
        "                text,\n",
        "                max_length=self.max_len,\n",
        "                padding='max_length',\n",
        "                truncation=True,\n",
        "                return_tensors='pt'\n",
        "            )\n",
        "\n",
        "            return {\n",
        "                'input_ids': encoding['input_ids'].flatten(),\n",
        "                'attention_mask': encoding['attention_mask'].flatten(),\n",
        "                'labels': torch.tensor(label, dtype=torch.long)\n",
        "            }\n",
        "\n",
        "train_dataset = SpamDataset(X_train.reset_index()['text'], y_train.reset_index()['is_spam'], tokenizer)\n",
        "val_dataset = SpamDataset(X_val.reset_index()['text'], y_val.reset_index()['is_spam'], tokenizer)\n",
        "test_dataset = SpamDataset(X_test.reset_index()['text'], y_test.reset_index()['is_spam'], tokenizer)"
      ],
      "metadata": {
        "id": "AvAGK-mEcw7I"
      },
      "execution_count": null,
      "outputs": []
    },
    {
      "cell_type": "code",
      "source": [
        "from torch.utils.data import DataLoader\n",
        "\n",
        "# Параметры\n",
        "batch_size = 64\n",
        "\n",
        "# Создание DataLoader\n",
        "train_loader = DataLoader(train_dataset, batch_size=batch_size, shuffle=True)\n",
        "val_loader = DataLoader(val_dataset, batch_size=batch_size, shuffle=True)"
      ],
      "metadata": {
        "id": "Ree_3YFTczBL"
      },
      "execution_count": null,
      "outputs": []
    },
    {
      "cell_type": "code",
      "source": [
        "from torch.optim import AdamW\n",
        "from torch.nn import CrossEntropyLoss\n",
        "\n",
        "# Оптимизатор\n",
        "optimizer = AdamW(model.parameters(), lr=2e-5)\n",
        "\n",
        "# Функция потерь\n",
        "loss_fn = CrossEntropyLoss()"
      ],
      "metadata": {
        "id": "qiOouyIpczt6"
      },
      "execution_count": null,
      "outputs": []
    },
    {
      "cell_type": "code",
      "source": [
        "device ='cuda:0' if torch.cuda.is_available() else 'cpu'\n",
        "print(device)\n",
        "model.to(device)"
      ],
      "metadata": {
        "colab": {
          "base_uri": "https://localhost:8080/"
        },
        "collapsed": true,
        "id": "3wQVkSC_c3bO",
        "outputId": "1ac1cfad-6541-450a-ab45-3444575f5e73"
      },
      "execution_count": null,
      "outputs": [
        {
          "output_type": "stream",
          "name": "stdout",
          "text": [
            "cuda:0\n"
          ]
        },
        {
          "output_type": "execute_result",
          "data": {
            "text/plain": [
              "BertForSequenceClassification(\n",
              "  (bert): BertModel(\n",
              "    (embeddings): BertEmbeddings(\n",
              "      (word_embeddings): Embedding(119547, 768, padding_idx=0)\n",
              "      (position_embeddings): Embedding(512, 768)\n",
              "      (token_type_embeddings): Embedding(2, 768)\n",
              "      (LayerNorm): LayerNorm((768,), eps=1e-12, elementwise_affine=True)\n",
              "      (dropout): Dropout(p=0.1, inplace=False)\n",
              "    )\n",
              "    (encoder): BertEncoder(\n",
              "      (layer): ModuleList(\n",
              "        (0-11): 12 x BertLayer(\n",
              "          (attention): BertAttention(\n",
              "            (self): BertSdpaSelfAttention(\n",
              "              (query): Linear(in_features=768, out_features=768, bias=True)\n",
              "              (key): Linear(in_features=768, out_features=768, bias=True)\n",
              "              (value): Linear(in_features=768, out_features=768, bias=True)\n",
              "              (dropout): Dropout(p=0.1, inplace=False)\n",
              "            )\n",
              "            (output): BertSelfOutput(\n",
              "              (dense): Linear(in_features=768, out_features=768, bias=True)\n",
              "              (LayerNorm): LayerNorm((768,), eps=1e-12, elementwise_affine=True)\n",
              "              (dropout): Dropout(p=0.1, inplace=False)\n",
              "            )\n",
              "          )\n",
              "          (intermediate): BertIntermediate(\n",
              "            (dense): Linear(in_features=768, out_features=3072, bias=True)\n",
              "            (intermediate_act_fn): GELUActivation()\n",
              "          )\n",
              "          (output): BertOutput(\n",
              "            (dense): Linear(in_features=3072, out_features=768, bias=True)\n",
              "            (LayerNorm): LayerNorm((768,), eps=1e-12, elementwise_affine=True)\n",
              "            (dropout): Dropout(p=0.1, inplace=False)\n",
              "          )\n",
              "        )\n",
              "      )\n",
              "    )\n",
              "    (pooler): BertPooler(\n",
              "      (dense): Linear(in_features=768, out_features=768, bias=True)\n",
              "      (activation): Tanh()\n",
              "    )\n",
              "  )\n",
              "  (dropout): Dropout(p=0.1, inplace=False)\n",
              "  (classifier): Linear(in_features=768, out_features=2, bias=True)\n",
              ")"
            ]
          },
          "metadata": {},
          "execution_count": 13
        }
      ]
    },
    {
      "cell_type": "code",
      "source": [
        "save_dir = 'saveModels'"
      ],
      "metadata": {
        "id": "yrg1Ki9eeSpE"
      },
      "execution_count": null,
      "outputs": []
    },
    {
      "cell_type": "code",
      "source": [
        "# Цикл обучения с валидацией\n",
        "from tqdm import tqdm\n",
        "from sklearn.metrics import accuracy_score, precision_score, recall_score\n",
        "\n",
        "import os\n",
        "\n",
        "epochs = 10\n",
        "save_interval = 2\n",
        "\n",
        "\n",
        "for epoch in range(epochs):\n",
        "    model.train()\n",
        "    total_loss = 0\n",
        "    all_preds = []\n",
        "    all_labels = []\n",
        "\n",
        "    # Обучение\n",
        "    train_loader_tqdm = tqdm(train_loader, desc=f\"Epoch {epoch + 1}/{epochs} [Train]\", unit=\"batch\")\n",
        "    for batch in train_loader_tqdm:\n",
        "        input_ids = batch['input_ids'].to(device)\n",
        "        attention_mask = batch['attention_mask'].to(device)\n",
        "        labels = batch['labels'].to(device)\n",
        "\n",
        "        optimizer.zero_grad()\n",
        "        outputs = model(input_ids=input_ids, attention_mask=attention_mask, labels=labels)\n",
        "        loss = outputs.loss\n",
        "        loss.backward()\n",
        "        optimizer.step()\n",
        "\n",
        "        logits = outputs.logits\n",
        "        preds = torch.argmax(logits, dim=1).cpu().numpy()\n",
        "        all_preds.extend(preds)\n",
        "        all_labels.extend(labels.cpu().numpy())\n",
        "\n",
        "        total_loss += loss.item()\n",
        "        train_loader_tqdm.set_postfix(loss=loss.item())\n",
        "\n",
        "    # Метрики на обучающем наборе\n",
        "    train_accuracy = accuracy_score(all_labels, all_preds)\n",
        "    train_precision = precision_score(all_labels, all_preds)\n",
        "    train_recall = recall_score(all_labels, all_preds)\n",
        "\n",
        "    # Валидация\n",
        "    model.eval()\n",
        "    val_preds = []\n",
        "    val_labels = []\n",
        "    with torch.no_grad():\n",
        "        val_loader_tqdm = tqdm(val_loader, desc=f\"Epoch {epoch + 1}/{epochs} [Val]\", unit=\"batch\")\n",
        "        for batch in val_loader_tqdm:\n",
        "            input_ids = batch['input_ids'].to(device)\n",
        "            attention_mask = batch['attention_mask'].to(device)\n",
        "            labels = batch['labels'].to(device)\n",
        "\n",
        "            outputs = model(input_ids=input_ids, attention_mask=attention_mask)\n",
        "            logits = outputs.logits\n",
        "            preds = torch.argmax(logits, dim=1).cpu().numpy()\n",
        "            val_preds.extend(preds)\n",
        "            val_labels.extend(labels.cpu().numpy())\n",
        "\n",
        "    # Метрики на валидационном наборе\n",
        "    val_accuracy = accuracy_score(val_labels, val_preds)\n",
        "    val_precision = precision_score(val_labels, val_preds)\n",
        "    val_recall = recall_score(val_labels, val_preds)\n",
        "\n",
        "    # Вывод метрик\n",
        "    print(f\"Epoch {epoch + 1}/{epochs}, Train Loss: {total_loss / len(train_loader)}\")\n",
        "    print(f\"Train Accuracy: {train_accuracy:.4f}, Precision: {train_precision:.4f}, Recall: {train_recall:.4f}\")\n",
        "    print(f\"Val Accuracy: {val_accuracy:.4f}, Precision: {val_precision:.4f}, Recall: {val_recall:.4f}\")\n",
        "\n",
        "    if (epoch + 1) % save_interval == 0:\n",
        "        save_path = os.path.join(save_dir, f\"model_epoch_{epoch + 1}.pt\")\n",
        "        torch.save(model.state_dict(), save_path)\n",
        "        print(f\"Модель сохранена в {save_path}\")"
      ],
      "metadata": {
        "colab": {
          "base_uri": "https://localhost:8080/"
        },
        "id": "ot2MBpMXc5I_",
        "outputId": "143cad12-187f-4633-f1e8-f5987b932d83"
      },
      "execution_count": null,
      "outputs": [
        {
          "output_type": "stream",
          "name": "stderr",
          "text": [
            "Epoch 1/10 [Train]: 100%|██████████| 724/724 [24:52<00:00,  2.06s/batch, loss=0.00655]\n",
            "Epoch 1/10 [Val]: 100%|██████████| 208/208 [04:09<00:00,  1.20s/batch]\n"
          ]
        },
        {
          "output_type": "stream",
          "name": "stdout",
          "text": [
            "Epoch 1/10, Train Loss: 0.11596203173410394\n",
            "Train Accuracy: 0.9559, Precision: 0.9511, Recall: 0.9105\n",
            "Val Accuracy: 0.9828, Precision: 0.9783, Recall: 0.9694\n"
          ]
        },
        {
          "output_type": "stream",
          "name": "stderr",
          "text": [
            "Epoch 2/10 [Train]: 100%|██████████| 724/724 [25:18<00:00,  2.10s/batch, loss=0.00824]\n",
            "Epoch 2/10 [Val]: 100%|██████████| 208/208 [04:08<00:00,  1.19s/batch]\n"
          ]
        },
        {
          "output_type": "stream",
          "name": "stdout",
          "text": [
            "Epoch 2/10, Train Loss: 0.03769610985278703\n",
            "Train Accuracy: 0.9877, Precision: 0.9828, Recall: 0.9790\n",
            "Val Accuracy: 0.9831, Precision: 0.9894, Recall: 0.9591\n",
            "Модель сохранена в saveModels/model_epoch_2.pt\n"
          ]
        },
        {
          "output_type": "stream",
          "name": "stderr",
          "text": [
            "Epoch 3/10 [Train]: 100%|██████████| 724/724 [25:10<00:00,  2.09s/batch, loss=0.611]\n",
            "Epoch 3/10 [Val]: 100%|██████████| 208/208 [04:07<00:00,  1.19s/batch]\n"
          ]
        },
        {
          "output_type": "stream",
          "name": "stdout",
          "text": [
            "Epoch 3/10, Train Loss: 0.018897813359860433\n",
            "Train Accuracy: 0.9944, Precision: 0.9929, Recall: 0.9898\n",
            "Val Accuracy: 0.9863, Precision: 0.9857, Recall: 0.9726\n"
          ]
        },
        {
          "output_type": "stream",
          "name": "stderr",
          "text": [
            "Epoch 4/10 [Train]:  48%|████▊     | 347/724 [12:02<13:40,  2.18s/batch, loss=0.0363]"
          ]
        }
      ]
    },
    {
      "cell_type": "code",
      "source": [],
      "metadata": {
        "id": "s1qaIWGwO7r2"
      },
      "execution_count": null,
      "outputs": []
    }
  ]
}